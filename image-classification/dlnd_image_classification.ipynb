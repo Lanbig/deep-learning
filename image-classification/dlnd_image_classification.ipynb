{
 "cells": [
  {
   "cell_type": "markdown",
   "metadata": {
    "collapsed": true,
    "deletable": true,
    "editable": true
   },
   "source": [
    "# Image Classification\n",
    "In this project, you'll classify images from the [CIFAR-10 dataset](https://www.cs.toronto.edu/~kriz/cifar.html).  The dataset consists of airplanes, dogs, cats, and other objects. You'll preprocess the images, then train a convolutional neural network on all the samples. The images need to be normalized and the labels need to be one-hot encoded.  You'll get to apply what you learned and build a convolutional, max pooling, dropout, and fully connected layers.  At the end, you'll get to see your neural network's predictions on the sample images.\n",
    "## Get the Data\n",
    "Run the following cell to download the [CIFAR-10 dataset for python](https://www.cs.toronto.edu/~kriz/cifar-10-python.tar.gz)."
   ]
  },
  {
   "cell_type": "code",
   "execution_count": 1,
   "metadata": {
    "collapsed": false,
    "deletable": true,
    "editable": true
   },
   "outputs": [
    {
     "name": "stdout",
     "output_type": "stream",
     "text": [
      "All files found!\n"
     ]
    }
   ],
   "source": [
    "\"\"\"\n",
    "DON'T MODIFY ANYTHING IN THIS CELL THAT IS BELOW THIS LINE\n",
    "\"\"\"\n",
    "from urllib.request import urlretrieve\n",
    "from os.path import isfile, isdir\n",
    "from tqdm import tqdm\n",
    "import problem_unittests as tests\n",
    "import tarfile\n",
    "\n",
    "cifar10_dataset_folder_path = 'cifar-10-batches-py'\n",
    "\n",
    "# Use Floyd's cifar-10 dataset if present\n",
    "floyd_cifar10_location = '/input/cifar-10/python.tar.gz'\n",
    "if isfile(floyd_cifar10_location):\n",
    "    tar_gz_path = floyd_cifar10_location\n",
    "else:\n",
    "    tar_gz_path = 'cifar-10-python.tar.gz'\n",
    "\n",
    "class DLProgress(tqdm):\n",
    "    last_block = 0\n",
    "\n",
    "    def hook(self, block_num=1, block_size=1, total_size=None):\n",
    "        self.total = total_size\n",
    "        self.update((block_num - self.last_block) * block_size)\n",
    "        self.last_block = block_num\n",
    "\n",
    "if not isfile(tar_gz_path):\n",
    "    with DLProgress(unit='B', unit_scale=True, miniters=1, desc='CIFAR-10 Dataset') as pbar:\n",
    "        urlretrieve(\n",
    "            'https://www.cs.toronto.edu/~kriz/cifar-10-python.tar.gz',\n",
    "            tar_gz_path,\n",
    "            pbar.hook)\n",
    "\n",
    "if not isdir(cifar10_dataset_folder_path):\n",
    "    with tarfile.open(tar_gz_path) as tar:\n",
    "        tar.extractall()\n",
    "        tar.close()\n",
    "\n",
    "\n",
    "tests.test_folder_path(cifar10_dataset_folder_path)"
   ]
  },
  {
   "cell_type": "markdown",
   "metadata": {
    "deletable": true,
    "editable": true
   },
   "source": [
    "## Explore the Data\n",
    "The dataset is broken into batches to prevent your machine from running out of memory.  The CIFAR-10 dataset consists of 5 batches, named `data_batch_1`, `data_batch_2`, etc.. Each batch contains the labels and images that are one of the following:\n",
    "* airplane\n",
    "* automobile\n",
    "* bird\n",
    "* cat\n",
    "* deer\n",
    "* dog\n",
    "* frog\n",
    "* horse\n",
    "* ship\n",
    "* truck\n",
    "\n",
    "Understanding a dataset is part of making predictions on the data.  Play around with the code cell below by changing the `batch_id` and `sample_id`. The `batch_id` is the id for a batch (1-5). The `sample_id` is the id for a image and label pair in the batch.\n",
    "\n",
    "Ask yourself \"What are all possible labels?\", \"What is the range of values for the image data?\", \"Are the labels in order or random?\".  Answers to questions like these will help you preprocess the data and end up with better predictions."
   ]
  },
  {
   "cell_type": "code",
   "execution_count": 2,
   "metadata": {
    "collapsed": false,
    "deletable": true,
    "editable": true
   },
   "outputs": [
    {
     "name": "stdout",
     "output_type": "stream",
     "text": [
      "\n",
      "Stats of batch 1:\n",
      "Samples: 10000\n",
      "Label Counts: {0: 1005, 1: 974, 2: 1032, 3: 1016, 4: 999, 5: 937, 6: 1030, 7: 1001, 8: 1025, 9: 981}\n",
      "First 20 Labels: [6, 9, 9, 4, 1, 1, 2, 7, 8, 3, 4, 7, 7, 2, 9, 9, 9, 3, 2, 6]\n",
      "\n",
      "Example of Image 5:\n",
      "Image - Min Value: 0 Max Value: 252\n",
      "Image - Shape: (32, 32, 3)\n",
      "Label - Label Id: 1 Name: automobile\n"
     ]
    },
    {
     "data": {
      "image/png": "[encoded data removed]",
      "text/plain": [
       "<matplotlib.figure.Figure at 0x7f7da5df8a90>"
      ]
     },
     "metadata": {
      "image/png": {
       "height": 250,
       "width": 253
      }
     },
     "output_type": "display_data"
    }
   ],
   "source": [
    "%matplotlib inline\n",
    "%config InlineBackend.figure_format = 'retina'\n",
    "\n",
    "import helper\n",
    "import numpy as np\n",
    "\n",
    "# Explore the dataset\n",
    "batch_id = 1\n",
    "sample_id = 5\n",
    "helper.display_stats(cifar10_dataset_folder_path, batch_id, sample_id)"
   ]
  },
  {
   "cell_type": "markdown",
   "metadata": {
    "deletable": true,
    "editable": true
   },
   "source": [
    "## Implement Preprocess Functions\n",
    "### Normalize\n",
    "In the cell below, implement the `normalize` function to take in image data, `x`, and return it as a normalized Numpy array. The values should be in the range of 0 to 1, inclusive.  The return object should be the same shape as `x`."
   ]
  },
  {
   "cell_type": "code",
   "execution_count": 3,
   "metadata": {
    "collapsed": false,
    "deletable": true,
    "editable": true
   },
   "outputs": [
    {
     "name": "stdout",
     "output_type": "stream",
     "text": [
      "Tests Passed\n"
     ]
    }
   ],
   "source": [
    "def normalize(x):\n",
    "    \"\"\"\n",
    "    Normalize a list of sample image data in the range of 0 to 1\n",
    "    : x: List of image data.  The image shape is (32, 32, 3)\n",
    "    : return: Numpy array of normalize data\n",
    "    \"\"\"\n",
    "    # TODO: Implement Function\n",
    "    return np.array(x / 255)\n",
    "\n",
    "\n",
    "\"\"\"\n",
    "DON'T MODIFY ANYTHING IN THIS CELL THAT IS BELOW THIS LINE\n",
    "\"\"\"\n",
    "tests.test_normalize(normalize)"
   ]
  },
  {
   "cell_type": "code",
   "execution_count": 4,
   "metadata": {
    "collapsed": true,
    "deletable": true,
    "editable": true
   },
   "outputs": [],
   "source": [
    "#test_shape = (np.random.choice(10), 2, 2, 2)\n",
    "#test_numbers = np.random.choice(range(256), test_shape)\n",
    "\n",
    "#normalize(test_numbers)"
   ]
  },
  {
   "cell_type": "markdown",
   "metadata": {
    "deletable": true,
    "editable": true
   },
   "source": [
    "### One-hot encode\n",
    "Just like the previous code cell, you'll be implementing a function for preprocessing.  This time, you'll implement the `one_hot_encode` function. The input, `x`, are a list of labels.  Implement the function to return the list of labels as One-Hot encoded Numpy array.  The possible values for labels are 0 to 9. The one-hot encoding function should return the same encoding for each value between each call to `one_hot_encode`.  Make sure to save the map of encodings outside the function.\n",
    "\n",
    "Hint: Don't reinvent the wheel."
   ]
  },
  {
   "cell_type": "code",
   "execution_count": 5,
   "metadata": {
    "collapsed": false,
    "deletable": true,
    "editable": true
   },
   "outputs": [
    {
     "name": "stdout",
     "output_type": "stream",
     "text": [
      "Tests Passed\n"
     ]
    }
   ],
   "source": [
    "def one_hot_encode(x):\n",
    "    \"\"\"\n",
    "    One hot encode a list of sample labels. Return a one-hot encoded vector for each label.\n",
    "    : x: List of sample Labels\n",
    "    : return: Numpy array of one-hot encoded labels\n",
    "    \"\"\"\n",
    "    # TODO: Implement Function\n",
    "    return np.eye(10)[x]\n",
    "\n",
    "\n",
    "\"\"\"\n",
    "DON'T MODIFY ANYTHING IN THIS CELL THAT IS BELOW THIS LINE\n",
    "\"\"\"\n",
    "tests.test_one_hot_encode(one_hot_encode)"
   ]
  },
  {
   "cell_type": "code",
   "execution_count": 6,
   "metadata": {
    "collapsed": false,
    "deletable": true,
    "editable": true
   },
   "outputs": [
    {
     "data": {
      "text/plain": [
       "array([[ 1.,  0.,  0.,  0.,  0.,  0.,  0.,  0.,  0.,  0.]])"
      ]
     },
     "execution_count": 6,
     "metadata": {},
     "output_type": "execute_result"
    }
   ],
   "source": [
    "test_numbers = np.random.choice(3, 1)\n",
    "one_hot_encode(test_numbers)"
   ]
  },
  {
   "cell_type": "markdown",
   "metadata": {
    "deletable": true,
    "editable": true
   },
   "source": [
    "### Randomize Data\n",
    "As you saw from exploring the data above, the order of the samples are randomized.  It doesn't hurt to randomize it again, but you don't need to for this dataset."
   ]
  },
  {
   "cell_type": "markdown",
   "metadata": {
    "deletable": true,
    "editable": true
   },
   "source": [
    "## Preprocess all the data and save it\n",
    "Running the code cell below will preprocess all the CIFAR-10 data and save it to file. The code below also uses 10% of the training data for validation."
   ]
  },
  {
   "cell_type": "code",
   "execution_count": 7,
   "metadata": {
    "collapsed": true,
    "deletable": true,
    "editable": true
   },
   "outputs": [],
   "source": [
    "\"\"\"\n",
    "DON'T MODIFY ANYTHING IN THIS CELL\n",
    "\"\"\"\n",
    "# Preprocess Training, Validation, and Testing Data\n",
    "helper.preprocess_and_save_data(cifar10_dataset_folder_path, normalize, one_hot_encode)"
   ]
  },
  {
   "cell_type": "markdown",
   "metadata": {
    "deletable": true,
    "editable": true
   },
   "source": [
    "# Check Point\n",
    "This is your first checkpoint.  If you ever decide to come back to this notebook or have to restart the notebook, you can start from here.  The preprocessed data has been saved to disk."
   ]
  },
  {
   "cell_type": "code",
   "execution_count": 2,
   "metadata": {
    "collapsed": true,
    "deletable": true,
    "editable": true
   },
   "outputs": [],
   "source": [
    "\"\"\"\n",
    "DON'T MODIFY ANYTHING IN THIS CELL\n",
    "\"\"\"\n",
    "import pickle\n",
    "import problem_unittests as tests\n",
    "import helper\n",
    "\n",
    "# Load the Preprocessed Validation data\n",
    "valid_features, valid_labels = pickle.load(open('preprocess_validation.p', mode='rb'))"
   ]
  },
  {
   "cell_type": "markdown",
   "metadata": {
    "deletable": true,
    "editable": true
   },
   "source": [
    "## Build the network\n",
    "For the neural network, you'll build each layer into a function.  Most of the code you've seen has been outside of functions. To test your code more thoroughly, we require that you put each layer in a function.  This allows us to give you better feedback and test for simple mistakes using our unittests before you submit your project.\n",
    "\n",
    ">**Note:** If you're finding it hard to dedicate enough time for this course each week, we've provided a small shortcut to this part of the project. In the next couple of problems, you'll have the option to use classes from the [TensorFlow Layers](https://www.tensorflow.org/api_docs/python/tf/layers) or [TensorFlow Layers (contrib)](https://www.tensorflow.org/api_guides/python/contrib.layers) packages to build each layer, except the layers you build in the \"Convolutional and Max Pooling Layer\" section.  TF Layers is similar to Keras's and TFLearn's abstraction to layers, so it's easy to pickup.\n",
    "\n",
    ">However, if you would like to get the most out of this course, try to solve all the problems _without_ using anything from the TF Layers packages. You **can** still use classes from other packages that happen to have the same name as ones you find in TF Layers! For example, instead of using the TF Layers version of the `conv2d` class, [tf.layers.conv2d](https://www.tensorflow.org/api_docs/python/tf/layers/conv2d), you would want to use the TF Neural Network version of `conv2d`, [tf.nn.conv2d](https://www.tensorflow.org/api_docs/python/tf/nn/conv2d). \n",
    "\n",
    "Let's begin!\n",
    "\n",
    "### Input\n",
    "The neural network needs to read the image data, one-hot encoded labels, and dropout keep probability. Implement the following functions\n",
    "* Implement `neural_net_image_input`\n",
    " * Return a [TF Placeholder](https://www.tensorflow.org/api_docs/python/tf/placeholder)\n",
    " * Set the shape using `image_shape` with batch size set to `None`.\n",
    " * Name the TensorFlow placeholder \"x\" using the TensorFlow `name` parameter in the [TF Placeholder](https://www.tensorflow.org/api_docs/python/tf/placeholder).\n",
    "* Implement `neural_net_label_input`\n",
    " * Return a [TF Placeholder](https://www.tensorflow.org/api_docs/python/tf/placeholder)\n",
    " * Set the shape using `n_classes` with batch size set to `None`.\n",
    " * Name the TensorFlow placeholder \"y\" using the TensorFlow `name` parameter in the [TF Placeholder](https://www.tensorflow.org/api_docs/python/tf/placeholder).\n",
    "* Implement `neural_net_keep_prob_input`\n",
    " * Return a [TF Placeholder](https://www.tensorflow.org/api_docs/python/tf/placeholder) for dropout keep probability.\n",
    " * Name the TensorFlow placeholder \"keep_prob\" using the TensorFlow `name` parameter in the [TF Placeholder](https://www.tensorflow.org/api_docs/python/tf/placeholder).\n",
    "\n",
    "These names will be used at the end of the project to load your saved model.\n",
    "\n",
    "Note: `None` for shapes in TensorFlow allow for a dynamic size."
   ]
  },
  {
   "cell_type": "code",
   "execution_count": 3,
   "metadata": {
    "collapsed": false,
    "deletable": true,
    "editable": true
   },
   "outputs": [
    {
     "name": "stdout",
     "output_type": "stream",
     "text": [
      "Image Input Tests Passed.\n",
      "Label Input Tests Passed.\n",
      "Keep Prob Tests Passed.\n"
     ]
    }
   ],
   "source": [
    "import tensorflow as tf\n",
    "\n",
    "def neural_net_image_input(image_shape):\n",
    "    \"\"\"\n",
    "    Return a Tensor for a batch of image input\n",
    "    : image_shape: Shape of the images\n",
    "    : return: Tensor for image input.\n",
    "    \"\"\"\n",
    "    # TODO: Implement Function\n",
    "    height, width, depth = image_shape\n",
    "    return tf.placeholder(tf.float32, shape=(None, height, width, depth), name='x')\n",
    "\n",
    "\n",
    "def neural_net_label_input(n_classes):\n",
    "    \"\"\"\n",
    "    Return a Tensor for a batch of label input\n",
    "    : n_classes: Number of classes\n",
    "    : return: Tensor for label input.\n",
    "    \"\"\"\n",
    "    # TODO: Implement Function\n",
    "    return tf.placeholder(tf.float32, shape=(None, n_classes), name='y')\n",
    "\n",
    "\n",
    "def neural_net_keep_prob_input():\n",
    "    \"\"\"\n",
    "    Return a Tensor for keep probability\n",
    "    : return: Tensor for keep probability.\n",
    "    \"\"\"\n",
    "    # TODO: Implement Function\n",
    "    return tf.placeholder(tf.float32, name='keep_prob')\n",
    "\n",
    "\n",
    "\"\"\"\n",
    "DON'T MODIFY ANYTHING IN THIS CELL THAT IS BELOW THIS LINE\n",
    "\"\"\"\n",
    "tf.reset_default_graph()\n",
    "tests.test_nn_image_inputs(neural_net_image_input)\n",
    "tests.test_nn_label_inputs(neural_net_label_input)\n",
    "tests.test_nn_keep_prob_inputs(neural_net_keep_prob_input)"
   ]
  },
  {
   "cell_type": "markdown",
   "metadata": {
    "deletable": true,
    "editable": true
   },
   "source": [
    "### Convolution and Max Pooling Layer\n",
    "Convolution layers have a lot of success with images. For this code cell, you should implement the function `conv2d_maxpool` to apply convolution then max pooling:\n",
    "* Create the weight and bias using `conv_ksize`, `conv_num_outputs` and the shape of `x_tensor`.\n",
    "* Apply a convolution to `x_tensor` using weight and `conv_strides`.\n",
    " * We recommend you use same padding, but you're welcome to use any padding.\n",
    "* Add bias\n",
    "* Add a nonlinear activation to the convolution.\n",
    "* Apply Max Pooling using `pool_ksize` and `pool_strides`.\n",
    " * We recommend you use same padding, but you're welcome to use any padding.\n",
    "\n",
    "**Note:** You **can't** use [TensorFlow Layers](https://www.tensorflow.org/api_docs/python/tf/layers) or [TensorFlow Layers (contrib)](https://www.tensorflow.org/api_guides/python/contrib.layers) for **this** layer, but you can still use TensorFlow's [Neural Network](https://www.tensorflow.org/api_docs/python/tf/nn) package. You may still use the shortcut option for all the **other** layers."
   ]
  },
  {
   "cell_type": "code",
   "execution_count": 4,
   "metadata": {
    "collapsed": false,
    "deletable": true,
    "editable": true
   },
   "outputs": [
    {
     "name": "stdout",
     "output_type": "stream",
     "text": [
      "Tests Passed\n"
     ]
    }
   ],
   "source": [
    "def conv2d_maxpool(x_tensor, conv_num_outputs, conv_ksize, conv_strides, pool_ksize, pool_strides):\n",
    "    \"\"\"\n",
    "    Apply convolution then max pooling to x_tensor\n",
    "    :param x_tensor: TensorFlow Tensor\n",
    "    :param conv_num_outputs: Number of outputs for the convolutional layer\n",
    "    :param conv_ksize: kernal size 2-D Tuple for the convolutional layer\n",
    "    :param conv_strides: Stride 2-D Tuple for convolution\n",
    "    :param pool_ksize: kernal size 2-D Tuple for pool\n",
    "    :param pool_strides: Stride 2-D Tuple for pool\n",
    "    : return: A tensor that represents convolution and max pooling of x_tensor\n",
    "    \"\"\"\n",
    "    # TODO: Implement Function\n",
    "    \n",
    "    shape = list(conv_ksize) + [int(x_tensor.get_shape()[-1]), conv_num_outputs] # note x_tensor.shape tf v1.0>\n",
    "    \n",
    "    # Weights\n",
    "    weights = tf.Variable(tf.truncated_normal(shape=shape, stddev=0.05))\n",
    "    \n",
    "    # Bias\n",
    "    biases = tf.Variable(tf.zeros([conv_num_outputs]))\n",
    "    \n",
    "    \n",
    "    # Convolution Layer\n",
    "    conv_layer = tf.nn.conv2d(x_tensor, weights, [1, *conv_strides, 1], padding=\"SAME\")\n",
    "    conv_layer = tf.nn.bias_add(conv_layer, biases)\n",
    "    conv_layer = tf.nn.relu(conv_layer)\n",
    "    \n",
    "    # Max pool\n",
    "    max_pool = tf.nn.max_pool(conv_layer, [1, *pool_ksize, 1], [1, *pool_strides, 1], padding=\"SAME\")\n",
    "\n",
    "    return max_pool\n",
    "\n",
    "\n",
    "\"\"\"\n",
    "DON'T MODIFY ANYTHING IN THIS CELL THAT IS BELOW THIS LINE\n",
    "\"\"\"\n",
    "tests.test_con_pool(conv2d_maxpool)"
   ]
  },
  {
   "cell_type": "code",
   "execution_count": null,
   "metadata": {
    "collapsed": false,
    "deletable": true,
    "editable": true
   },
   "outputs": [],
   "source": []
  },
  {
   "cell_type": "markdown",
   "metadata": {
    "deletable": true,
    "editable": true
   },
   "source": [
    "### Flatten Layer\n",
    "Implement the `flatten` function to change the dimension of `x_tensor` from a 4-D tensor to a 2-D tensor.  The output should be the shape (*Batch Size*, *Flattened Image Size*). Shortcut option: you can use classes from the [TensorFlow Layers](https://www.tensorflow.org/api_docs/python/tf/layers) or [TensorFlow Layers (contrib)](https://www.tensorflow.org/api_guides/python/contrib.layers) packages for this layer. For more of a challenge, only use other TensorFlow packages."
   ]
  },
  {
   "cell_type": "code",
   "execution_count": 5,
   "metadata": {
    "collapsed": false,
    "deletable": true,
    "editable": true
   },
   "outputs": [
    {
     "name": "stdout",
     "output_type": "stream",
     "text": [
      "Tests Passed\n"
     ]
    }
   ],
   "source": [
    "def flatten(x_tensor):\n",
    "    \"\"\"\n",
    "    Flatten x_tensor to (Batch Size, Flattened Image Size)\n",
    "    : x_tensor: A tensor of size (Batch Size, ...), where ... are the image dimensions.\n",
    "    : return: A tensor of size (Batch Size, Flattened Image Size).\n",
    "    \"\"\"\n",
    "    # TODO: Implement Function\n",
    "    return tf.contrib.layers.flatten(x_tensor)\n",
    "\n",
    "\n",
    "\"\"\"\n",
    "DON'T MODIFY ANYTHING IN THIS CELL THAT IS BELOW THIS LINE\n",
    "\"\"\"\n",
    "tests.test_flatten(flatten)"
   ]
  },
  {
   "cell_type": "markdown",
   "metadata": {
    "deletable": true,
    "editable": true
   },
   "source": [
    "### Fully-Connected Layer\n",
    "Implement the `fully_conn` function to apply a fully connected layer to `x_tensor` with the shape (*Batch Size*, *num_outputs*). Shortcut option: you can use classes from the [TensorFlow Layers](https://www.tensorflow.org/api_docs/python/tf/layers) or [TensorFlow Layers (contrib)](https://www.tensorflow.org/api_guides/python/contrib.layers) packages for this layer. For more of a challenge, only use other TensorFlow packages."
   ]
  },
  {
   "cell_type": "code",
   "execution_count": 6,
   "metadata": {
    "collapsed": false,
    "deletable": true,
    "editable": true
   },
   "outputs": [
    {
     "name": "stdout",
     "output_type": "stream",
     "text": [
      "Tests Passed\n"
     ]
    }
   ],
   "source": [
    "def fully_conn(x_tensor, num_outputs):\n",
    "    \"\"\"\n",
    "    Apply a fully connected layer to x_tensor using weight and bias\n",
    "    : x_tensor: A 2-D tensor where the first dimension is batch size.\n",
    "    : num_outputs: The number of output that the new tensor should be.\n",
    "    : return: A 2-D tensor where the second dimension is num_outputs.\n",
    "    \"\"\"\n",
    "    # TODO: Implement Function\n",
    "    return tf.contrib.layers.fully_connected(x_tensor, num_outputs, activation_fn=tf.nn.relu)\n",
    "\n",
    "\n",
    "\"\"\"\n",
    "DON'T MODIFY ANYTHING IN THIS CELL THAT IS BELOW THIS LINE\n",
    "\"\"\"\n",
    "tests.test_fully_conn(fully_conn)"
   ]
  },
  {
   "cell_type": "markdown",
   "metadata": {
    "deletable": true,
    "editable": true
   },
   "source": [
    "### Output Layer\n",
    "Implement the `output` function to apply a fully connected layer to `x_tensor` with the shape (*Batch Size*, *num_outputs*). Shortcut option: you can use classes from the [TensorFlow Layers](https://www.tensorflow.org/api_docs/python/tf/layers) or [TensorFlow Layers (contrib)](https://www.tensorflow.org/api_guides/python/contrib.layers) packages for this layer. For more of a challenge, only use other TensorFlow packages.\n",
    "\n",
    "**Note:** Activation, softmax, or cross entropy should **not** be applied to this."
   ]
  },
  {
   "cell_type": "code",
   "execution_count": 7,
   "metadata": {
    "collapsed": false,
    "deletable": true,
    "editable": true
   },
   "outputs": [
    {
     "name": "stdout",
     "output_type": "stream",
     "text": [
      "Tests Passed\n"
     ]
    }
   ],
   "source": [
    "def output(x_tensor, num_outputs):\n",
    "    \"\"\"\n",
    "    Apply a output layer to x_tensor using weight and bias\n",
    "    : x_tensor: A 2-D tensor where the first dimension is batch size.\n",
    "    : num_outputs: The number of output that the new tensor should be.\n",
    "    : return: A 2-D tensor where the second dimension is num_outputs.\n",
    "    \"\"\"\n",
    "    # TODO: Implement Function\n",
    "    return tf.contrib.layers.fully_connected(x_tensor, num_outputs, activation_fn=None)\n",
    "\n",
    "\n",
    "\"\"\"\n",
    "DON'T MODIFY ANYTHING IN THIS CELL THAT IS BELOW THIS LINE\n",
    "\"\"\"\n",
    "tests.test_output(output)"
   ]
  },
  {
   "cell_type": "markdown",
   "metadata": {
    "deletable": true,
    "editable": true
   },
   "source": [
    "### Create Convolutional Model\n",
    "Implement the function `conv_net` to create a convolutional neural network model. The function takes in a batch of images, `x`, and outputs logits.  Use the layers you created above to create this model:\n",
    "\n",
    "* Apply 1, 2, or 3 Convolution and Max Pool layers\n",
    "* Apply a Flatten Layer\n",
    "* Apply 1, 2, or 3 Fully Connected Layers\n",
    "* Apply an Output Layer\n",
    "* Return the output\n",
    "* Apply [TensorFlow's Dropout](https://www.tensorflow.org/api_docs/python/tf/nn/dropout) to one or more layers in the model using `keep_prob`. "
   ]
  },
  {
   "cell_type": "code",
   "execution_count": 8,
   "metadata": {
    "collapsed": false,
    "deletable": true,
    "editable": true
   },
   "outputs": [
    {
     "name": "stdout",
     "output_type": "stream",
     "text": [
      "Neural Network Built!\n"
     ]
    }
   ],
   "source": [
    "def conv_net(x, keep_prob):\n",
    "    \"\"\"\n",
    "    Create a convolutional neural network model\n",
    "    : x: Placeholder tensor that holds image data.\n",
    "    : keep_prob: Placeholder tensor that hold dropout keep probability.\n",
    "    : return: Tensor that represents logits\n",
    "    \"\"\"\n",
    "    # TODO: Apply 1, 2, or 3 Convolution and Max Pool layers\n",
    "    #    Play around with different number of outputs, kernel size and stride\n",
    "    # Function Definition from Above:\n",
    "    #    conv2d_maxpool(x_tensor, conv_num_outputs, conv_ksize, conv_strides, pool_ksize, pool_strides)\n",
    "    conv = conv2d_maxpool(x,    64,  (5,5), (1,1), (3,3), (2,2))\n",
    "    conv = conv2d_maxpool(conv, 64,  (5,5), (1,1), (3,3), (2,2))\n",
    "    #conv = conv2d_maxpool(conv, 64, (5,5), (1,1), (2,2), (2,2))   \n",
    "\n",
    "    # TODO: Apply a Flatten Layer\n",
    "    # Function Definition from Above:\n",
    "    #   flatten(x_tensor)\n",
    "    flattened_conv = flatten(conv)\n",
    "\n",
    "    # TODO: Apply 1, 2, or 3 Fully Connected Layers\n",
    "    #    Play around with different number of outputs\n",
    "    # Function Definition from Above:\n",
    "    #   fully_conn(x_tensor, num_outputs)\n",
    "    fc = fully_conn(flattened_conv, 512)\n",
    "    fc = fully_conn(fc, 256)\n",
    "    #fc = fully_conn(fc, 128)\n",
    "    fc = tf.nn.dropout(fc, keep_prob)\n",
    "    \n",
    "    \n",
    "    # TODO: Apply an Output Layer\n",
    "    #    Set this to the number of classes\n",
    "    # Function Definition from Above:\n",
    "    #   output(x_tensor, num_outputs)\n",
    "    out = tf.nn.dropout(output(fc, 10), keep_prob)\n",
    "    \n",
    "    # TODO: return output\n",
    "    return out\n",
    "\n",
    "\n",
    "\"\"\"\n",
    "DON'T MODIFY ANYTHING IN THIS CELL THAT IS BELOW THIS LINE\n",
    "\"\"\"\n",
    "\n",
    "##############################\n",
    "## Build the Neural Network ##\n",
    "##############################\n",
    "\n",
    "# Remove previous weights, bias, inputs, etc..\n",
    "tf.reset_default_graph()\n",
    "\n",
    "# Inputs\n",
    "x = neural_net_image_input((32, 32, 3))\n",
    "y = neural_net_label_input(10)\n",
    "keep_prob = neural_net_keep_prob_input()\n",
    "\n",
    "# Model\n",
    "logits = conv_net(x, keep_prob)\n",
    "\n",
    "# Name logits Tensor, so that is can be loaded from disk after training\n",
    "logits = tf.identity(logits, name='logits')\n",
    "\n",
    "# Loss and Optimizer\n",
    "cost = tf.reduce_mean(tf.nn.softmax_cross_entropy_with_logits(logits=logits, labels=y))\n",
    "optimizer = tf.train.AdamOptimizer().minimize(cost)\n",
    "\n",
    "# Accuracy\n",
    "correct_pred = tf.equal(tf.argmax(logits, 1), tf.argmax(y, 1))\n",
    "accuracy = tf.reduce_mean(tf.cast(correct_pred, tf.float32), name='accuracy')\n",
    "\n",
    "tests.test_conv_net(conv_net)"
   ]
  },
  {
   "cell_type": "markdown",
   "metadata": {
    "deletable": true,
    "editable": true
   },
   "source": [
    "## Train the Neural Network\n",
    "### Single Optimization\n",
    "Implement the function `train_neural_network` to do a single optimization.  The optimization should use `optimizer` to optimize in `session` with a `feed_dict` of the following:\n",
    "* `x` for image input\n",
    "* `y` for labels\n",
    "* `keep_prob` for keep probability for dropout\n",
    "\n",
    "This function will be called for each batch, so `tf.global_variables_initializer()` has already been called.\n",
    "\n",
    "Note: Nothing needs to be returned. This function is only optimizing the neural network."
   ]
  },
  {
   "cell_type": "code",
   "execution_count": 9,
   "metadata": {
    "collapsed": false,
    "deletable": true,
    "editable": true
   },
   "outputs": [
    {
     "name": "stdout",
     "output_type": "stream",
     "text": [
      "Tests Passed\n"
     ]
    }
   ],
   "source": [
    "def train_neural_network(session, optimizer, keep_probability, feature_batch, label_batch):\n",
    "    \"\"\"\n",
    "    Optimize the session on a batch of images and labels\n",
    "    : session: Current TensorFlow session\n",
    "    : optimizer: TensorFlow optimizer function\n",
    "    : keep_probability: keep probability\n",
    "    : feature_batch: Batch of Numpy image data\n",
    "    : label_batch: Batch of Numpy label data\n",
    "    \"\"\"\n",
    "    # TODO: Implement Function\n",
    "    session.run(optimizer, feed_dict={\n",
    "        x: feature_batch,\n",
    "        y: label_batch,\n",
    "        keep_prob: keep_probability})\n",
    "\n",
    "\n",
    "\"\"\"\n",
    "DON'T MODIFY ANYTHING IN THIS CELL THAT IS BELOW THIS LINE\n",
    "\"\"\"\n",
    "tests.test_train_nn(train_neural_network)"
   ]
  },
  {
   "cell_type": "markdown",
   "metadata": {
    "deletable": true,
    "editable": true
   },
   "source": [
    "### Show Stats\n",
    "Implement the function `print_stats` to print loss and validation accuracy.  Use the global variables `valid_features` and `valid_labels` to calculate validation accuracy.  Use a keep probability of `1.0` to calculate the loss and validation accuracy."
   ]
  },
  {
   "cell_type": "code",
   "execution_count": 10,
   "metadata": {
    "collapsed": true,
    "deletable": true,
    "editable": true
   },
   "outputs": [],
   "source": [
    "def print_stats(session, feature_batch, label_batch, cost, accuracy):\n",
    "    \"\"\"\n",
    "    Print information about loss and validation accuracy\n",
    "    : session: Current TensorFlow session\n",
    "    : feature_batch: Batch of Numpy image data\n",
    "    : label_batch: Batch of Numpy label data\n",
    "    : cost: TensorFlow cost function\n",
    "    : accuracy: TensorFlow accuracy function\n",
    "    \"\"\"\n",
    "    # TODO: Implement Function\n",
    "    loss = session.run(cost, feed_dict={\n",
    "        x: feature_batch,\n",
    "        y: label_batch,\n",
    "        keep_prob: 1.\n",
    "    })\n",
    "\n",
    "    train_acc = session.run(accuracy, feed_dict={\n",
    "        x: feature_batch,\n",
    "        y: label_batch,\n",
    "        keep_prob: 1.\n",
    "    })\n",
    "    \n",
    "    valid_acc = session.run(accuracy, feed_dict={\n",
    "        x: valid_features,\n",
    "        y: valid_labels,\n",
    "        keep_prob: 1.})\n",
    "\n",
    "    print('Loss: {:.4f} , Training Acc: {:.4f}, Validation Acc: {:.4f}'.format(loss, train_acc, valid_acc))"
   ]
  },
  {
   "cell_type": "markdown",
   "metadata": {
    "deletable": true,
    "editable": true
   },
   "source": [
    "### Hyperparameters\n",
    "Tune the following parameters:\n",
    "* Set `epochs` to the number of iterations until the network stops learning or start overfitting\n",
    "* Set `batch_size` to the highest number that your machine has memory for.  Most people set them to common sizes of memory:\n",
    " * 64\n",
    " * 128\n",
    " * 256\n",
    " * ...\n",
    "* Set `keep_probability` to the probability of keeping a node using dropout"
   ]
  },
  {
   "cell_type": "code",
   "execution_count": 11,
   "metadata": {
    "collapsed": true,
    "deletable": true,
    "editable": true
   },
   "outputs": [],
   "source": [
    "# TODO: Tune Parameters\n",
    "epochs = 50\n",
    "batch_size = 1024\n",
    "keep_probability = 0.6"
   ]
  },
  {
   "cell_type": "markdown",
   "metadata": {
    "deletable": true,
    "editable": true
   },
   "source": [
    "### Train on a Single CIFAR-10 Batch\n",
    "Instead of training the neural network on all the CIFAR-10 batches of data, let's use a single batch. This should save time while you iterate on the model to get a better accuracy.  Once the final validation accuracy is 50% or greater, run the model on all the data in the next section."
   ]
  },
  {
   "cell_type": "code",
   "execution_count": 12,
   "metadata": {
    "collapsed": false,
    "deletable": true,
    "editable": true
   },
   "outputs": [
    {
     "name": "stdout",
     "output_type": "stream",
     "text": [
      "Checking the Training on a Single Batch...\n",
      "Epoch  1, CIFAR-10 Batch 1:  Loss: 2.2053 , Training Acc: 0.2116, Validation Acc: 0.1896\n",
      "Epoch  2, CIFAR-10 Batch 1:  Loss: 1.9619 , Training Acc: 0.3156, Validation Acc: 0.3116\n",
      "Epoch  3, CIFAR-10 Batch 1:  Loss: 1.8173 , Training Acc: 0.4035, Validation Acc: 0.4006\n",
      "Epoch  4, CIFAR-10 Batch 1:  Loss: 1.7432 , Training Acc: 0.3886, Validation Acc: 0.3870\n",
      "Epoch  5, CIFAR-10 Batch 1:  Loss: 1.6251 , Training Acc: 0.4530, Validation Acc: 0.4408\n",
      "Epoch  6, CIFAR-10 Batch 1:  Loss: 1.5694 , Training Acc: 0.5087, Validation Acc: 0.4666\n",
      "Epoch  7, CIFAR-10 Batch 1:  Loss: 1.5297 , Training Acc: 0.5012, Validation Acc: 0.4832\n",
      "Epoch  8, CIFAR-10 Batch 1:  Loss: 1.4229 , Training Acc: 0.5347, Validation Acc: 0.4940\n",
      "Epoch  9, CIFAR-10 Batch 1:  Loss: 1.3584 , Training Acc: 0.5730, Validation Acc: 0.5118\n",
      "Epoch 10, CIFAR-10 Batch 1:  Loss: 1.3187 , Training Acc: 0.5693, Validation Acc: 0.5174\n",
      "Epoch 11, CIFAR-10 Batch 1:  Loss: 1.2754 , Training Acc: 0.6027, Validation Acc: 0.5366\n",
      "Epoch 12, CIFAR-10 Batch 1:  Loss: 1.2069 , Training Acc: 0.6250, Validation Acc: 0.5550\n",
      "Epoch 13, CIFAR-10 Batch 1:  Loss: 1.1775 , Training Acc: 0.6708, Validation Acc: 0.5468\n",
      "Epoch 14, CIFAR-10 Batch 1:  Loss: 1.1263 , Training Acc: 0.6460, Validation Acc: 0.5592\n",
      "Epoch 15, CIFAR-10 Batch 1:  Loss: 1.0862 , Training Acc: 0.6720, Validation Acc: 0.5652\n",
      "Epoch 16, CIFAR-10 Batch 1:  Loss: 1.0151 , Training Acc: 0.7215, Validation Acc: 0.5826\n",
      "Epoch 17, CIFAR-10 Batch 1:  Loss: 0.9583 , Training Acc: 0.7351, Validation Acc: 0.5846\n",
      "Epoch 18, CIFAR-10 Batch 1:  Loss: 0.9419 , Training Acc: 0.7364, Validation Acc: 0.5878\n",
      "Epoch 19, CIFAR-10 Batch 1:  Loss: 0.9252 , Training Acc: 0.7587, Validation Acc: 0.5982\n",
      "Epoch 20, CIFAR-10 Batch 1:  Loss: 0.8669 , Training Acc: 0.7413, Validation Acc: 0.5886\n",
      "Epoch 21, CIFAR-10 Batch 1:  Loss: 0.7800 , Training Acc: 0.7871, Validation Acc: 0.6096\n",
      "Epoch 22, CIFAR-10 Batch 1:  Loss: 0.7181 , Training Acc: 0.8057, Validation Acc: 0.6064\n",
      "Epoch 23, CIFAR-10 Batch 1:  Loss: 0.6835 , Training Acc: 0.8354, Validation Acc: 0.6190\n",
      "Epoch 24, CIFAR-10 Batch 1:  Loss: 0.6704 , Training Acc: 0.8366, Validation Acc: 0.6166\n",
      "Epoch 25, CIFAR-10 Batch 1:  Loss: 0.6116 , Training Acc: 0.8317, Validation Acc: 0.6232\n",
      "Epoch 26, CIFAR-10 Batch 1:  Loss: 0.5640 , Training Acc: 0.8676, Validation Acc: 0.6264\n",
      "Epoch 27, CIFAR-10 Batch 1:  Loss: 0.5453 , Training Acc: 0.8490, Validation Acc: 0.6148\n",
      "Epoch 28, CIFAR-10 Batch 1:  Loss: 0.5186 , Training Acc: 0.8762, Validation Acc: 0.5960\n",
      "Epoch 29, CIFAR-10 Batch 1:  Loss: 0.5247 , Training Acc: 0.8812, Validation Acc: 0.6072\n",
      "Epoch 30, CIFAR-10 Batch 1:  Loss: 0.5044 , Training Acc: 0.8837, Validation Acc: 0.6104\n",
      "Epoch 31, CIFAR-10 Batch 1:  Loss: 0.4532 , Training Acc: 0.8874, Validation Acc: 0.6046\n",
      "Epoch 32, CIFAR-10 Batch 1:  Loss: 0.4233 , Training Acc: 0.9035, Validation Acc: 0.6064\n",
      "Epoch 33, CIFAR-10 Batch 1:  Loss: 0.3691 , Training Acc: 0.9158, Validation Acc: 0.6142\n",
      "Epoch 34, CIFAR-10 Batch 1:  Loss: 0.3683 , Training Acc: 0.9097, Validation Acc: 0.6068\n",
      "Epoch 35, CIFAR-10 Batch 1:  Loss: 0.3156 , Training Acc: 0.9332, Validation Acc: 0.6238\n",
      "Epoch 36, CIFAR-10 Batch 1:  Loss: 0.2934 , Training Acc: 0.9344, Validation Acc: 0.6200\n",
      "Epoch 37, CIFAR-10 Batch 1:  Loss: 0.2578 , Training Acc: 0.9493, Validation Acc: 0.6158\n",
      "Epoch 38, CIFAR-10 Batch 1:  Loss: 0.2131 , Training Acc: 0.9579, Validation Acc: 0.6188\n",
      "Epoch 39, CIFAR-10 Batch 1:  Loss: 0.2024 , Training Acc: 0.9629, Validation Acc: 0.6180\n",
      "Epoch 40, CIFAR-10 Batch 1:  Loss: 0.1901 , Training Acc: 0.9691, Validation Acc: 0.6086\n",
      "Epoch 41, CIFAR-10 Batch 1:  Loss: 0.2076 , Training Acc: 0.9579, Validation Acc: 0.5936\n",
      "Epoch 42, CIFAR-10 Batch 1:  Loss: 0.2153 , Training Acc: 0.9629, Validation Acc: 0.5970\n",
      "Epoch 43, CIFAR-10 Batch 1:  Loss: 0.2031 , Training Acc: 0.9641, Validation Acc: 0.6030\n",
      "Epoch 44, CIFAR-10 Batch 1:  Loss: 0.1539 , Training Acc: 0.9740, Validation Acc: 0.6060\n",
      "Epoch 45, CIFAR-10 Batch 1:  Loss: 0.1225 , Training Acc: 0.9814, Validation Acc: 0.6128\n",
      "Epoch 46, CIFAR-10 Batch 1:  Loss: 0.1161 , Training Acc: 0.9814, Validation Acc: 0.6146\n",
      "Epoch 47, CIFAR-10 Batch 1:  Loss: 0.1026 , Training Acc: 0.9876, Validation Acc: 0.6194\n",
      "Epoch 48, CIFAR-10 Batch 1:  Loss: 0.0841 , Training Acc: 0.9889, Validation Acc: 0.6208\n",
      "Epoch 49, CIFAR-10 Batch 1:  Loss: 0.0791 , Training Acc: 0.9889, Validation Acc: 0.6236\n",
      "Epoch 50, CIFAR-10 Batch 1:  Loss: 0.0825 , Training Acc: 0.9851, Validation Acc: 0.6144\n"
     ]
    }
   ],
   "source": [
    "\"\"\"\n",
    "DON'T MODIFY ANYTHING IN THIS CELL\n",
    "\"\"\"\n",
    "print('Checking the Training on a Single Batch...')\n",
    "with tf.Session() as sess:\n",
    "    # Initializing the variables\n",
    "    sess.run(tf.global_variables_initializer())\n",
    "    \n",
    "    # Training cycle\n",
    "    for epoch in range(epochs):\n",
    "        batch_i = 1\n",
    "        for batch_features, batch_labels in helper.load_preprocess_training_batch(batch_i, batch_size):\n",
    "            train_neural_network(sess, optimizer, keep_probability, batch_features, batch_labels)\n",
    "        print('Epoch {:>2}, CIFAR-10 Batch {}:  '.format(epoch + 1, batch_i), end='')\n",
    "        print_stats(sess, batch_features, batch_labels, cost, accuracy)"
   ]
  },
  {
   "cell_type": "markdown",
   "metadata": {
    "deletable": true,
    "editable": true
   },
   "source": [
    "### Fully Train the Model\n",
    "Now that you got a good accuracy with a single CIFAR-10 batch, try it with all five batches."
   ]
  },
  {
   "cell_type": "code",
   "execution_count": 13,
   "metadata": {
    "collapsed": false,
    "deletable": true,
    "editable": true,
    "scrolled": false
   },
   "outputs": [
    {
     "name": "stdout",
     "output_type": "stream",
     "text": [
      "Training...\n",
      "Epoch  1, CIFAR-10 Batch 1:  Loss: 2.2277 , Training Acc: 0.1881, Validation Acc: 0.1748\n",
      "Epoch  1, CIFAR-10 Batch 2:  Loss: 2.0409 , Training Acc: 0.2995, Validation Acc: 0.3186\n",
      "Epoch  1, CIFAR-10 Batch 3:  Loss: 1.8850 , Training Acc: 0.3453, Validation Acc: 0.3452\n",
      "Epoch  1, CIFAR-10 Batch 4:  Loss: 1.7753 , Training Acc: 0.3849, Validation Acc: 0.3986\n",
      "Epoch  1, CIFAR-10 Batch 5:  Loss: 1.6937 , Training Acc: 0.4505, Validation Acc: 0.4354\n",
      "Epoch  2, CIFAR-10 Batch 1:  Loss: 1.6276 , Training Acc: 0.4889, Validation Acc: 0.4472\n",
      "Epoch  2, CIFAR-10 Batch 2:  Loss: 1.5850 , Training Acc: 0.4715, Validation Acc: 0.4742\n",
      "Epoch  2, CIFAR-10 Batch 3:  Loss: 1.4873 , Training Acc: 0.5099, Validation Acc: 0.5008\n",
      "Epoch  2, CIFAR-10 Batch 4:  Loss: 1.4219 , Training Acc: 0.5272, Validation Acc: 0.5144\n",
      "Epoch  2, CIFAR-10 Batch 5:  Loss: 1.4726 , Training Acc: 0.5483, Validation Acc: 0.5160\n",
      "Epoch  3, CIFAR-10 Batch 1:  Loss: 1.3861 , Training Acc: 0.5743, Validation Acc: 0.5486\n",
      "Epoch  3, CIFAR-10 Batch 2:  Loss: 1.3900 , Training Acc: 0.5507, Validation Acc: 0.5246\n",
      "Epoch  3, CIFAR-10 Batch 3:  Loss: 1.2872 , Training Acc: 0.5891, Validation Acc: 0.5486\n",
      "Epoch  3, CIFAR-10 Batch 4:  Loss: 1.2424 , Training Acc: 0.5879, Validation Acc: 0.5680\n",
      "Epoch  3, CIFAR-10 Batch 5:  Loss: 1.2276 , Training Acc: 0.6213, Validation Acc: 0.5770\n",
      "Epoch  4, CIFAR-10 Batch 1:  Loss: 1.2966 , Training Acc: 0.5854, Validation Acc: 0.5616\n",
      "Epoch  4, CIFAR-10 Batch 2:  Loss: 1.2262 , Training Acc: 0.6139, Validation Acc: 0.5954\n",
      "Epoch  4, CIFAR-10 Batch 3:  Loss: 1.1563 , Training Acc: 0.6213, Validation Acc: 0.5964\n",
      "Epoch  4, CIFAR-10 Batch 4:  Loss: 1.1752 , Training Acc: 0.6312, Validation Acc: 0.5868\n",
      "Epoch  4, CIFAR-10 Batch 5:  Loss: 1.1265 , Training Acc: 0.6522, Validation Acc: 0.6048\n",
      "Epoch  5, CIFAR-10 Batch 1:  Loss: 1.1072 , Training Acc: 0.6522, Validation Acc: 0.6094\n",
      "Epoch  5, CIFAR-10 Batch 2:  Loss: 1.1809 , Training Acc: 0.6448, Validation Acc: 0.5938\n",
      "Epoch  5, CIFAR-10 Batch 3:  Loss: 1.1024 , Training Acc: 0.6510, Validation Acc: 0.6098\n",
      "Epoch  5, CIFAR-10 Batch 4:  Loss: 1.0737 , Training Acc: 0.6646, Validation Acc: 0.6302\n",
      "Epoch  5, CIFAR-10 Batch 5:  Loss: 1.0126 , Training Acc: 0.6795, Validation Acc: 0.6214\n",
      "Epoch  6, CIFAR-10 Batch 1:  Loss: 1.0641 , Training Acc: 0.6720, Validation Acc: 0.6302\n",
      "Epoch  6, CIFAR-10 Batch 2:  Loss: 1.0146 , Training Acc: 0.6869, Validation Acc: 0.6414\n",
      "Epoch  6, CIFAR-10 Batch 3:  Loss: 0.9807 , Training Acc: 0.6782, Validation Acc: 0.6350\n",
      "Epoch  6, CIFAR-10 Batch 4:  Loss: 0.9878 , Training Acc: 0.7005, Validation Acc: 0.6410\n",
      "Epoch  6, CIFAR-10 Batch 5:  Loss: 0.9362 , Training Acc: 0.7401, Validation Acc: 0.6542\n",
      "Epoch  7, CIFAR-10 Batch 1:  Loss: 0.9495 , Training Acc: 0.6955, Validation Acc: 0.6486\n",
      "Epoch  7, CIFAR-10 Batch 2:  Loss: 0.9619 , Training Acc: 0.7054, Validation Acc: 0.6546\n",
      "Epoch  7, CIFAR-10 Batch 3:  Loss: 0.9112 , Training Acc: 0.7153, Validation Acc: 0.6550\n",
      "Epoch  7, CIFAR-10 Batch 4:  Loss: 0.9044 , Training Acc: 0.7314, Validation Acc: 0.6552\n",
      "Epoch  7, CIFAR-10 Batch 5:  Loss: 0.8278 , Training Acc: 0.7723, Validation Acc: 0.6766\n",
      "Epoch  8, CIFAR-10 Batch 1:  Loss: 0.8967 , Training Acc: 0.7178, Validation Acc: 0.6694\n",
      "Epoch  8, CIFAR-10 Batch 2:  Loss: 0.8833 , Training Acc: 0.7252, Validation Acc: 0.6680\n",
      "Epoch  8, CIFAR-10 Batch 3:  Loss: 0.8401 , Training Acc: 0.7302, Validation Acc: 0.6666\n",
      "Epoch  8, CIFAR-10 Batch 4:  Loss: 0.7790 , Training Acc: 0.7525, Validation Acc: 0.6934\n",
      "Epoch  8, CIFAR-10 Batch 5:  Loss: 0.7886 , Training Acc: 0.7735, Validation Acc: 0.6820\n",
      "Epoch  9, CIFAR-10 Batch 1:  Loss: 0.8215 , Training Acc: 0.7525, Validation Acc: 0.6818\n",
      "Epoch  9, CIFAR-10 Batch 2:  Loss: 0.8515 , Training Acc: 0.7302, Validation Acc: 0.6788\n",
      "Epoch  9, CIFAR-10 Batch 3:  Loss: 0.8617 , Training Acc: 0.7364, Validation Acc: 0.6668\n",
      "Epoch  9, CIFAR-10 Batch 4:  Loss: 0.8264 , Training Acc: 0.7661, Validation Acc: 0.6796\n",
      "Epoch  9, CIFAR-10 Batch 5:  Loss: 0.7559 , Training Acc: 0.7760, Validation Acc: 0.6842\n",
      "Epoch 10, CIFAR-10 Batch 1:  Loss: 0.7474 , Training Acc: 0.7809, Validation Acc: 0.6920\n",
      "Epoch 10, CIFAR-10 Batch 2:  Loss: 0.7590 , Training Acc: 0.7710, Validation Acc: 0.7038\n",
      "Epoch 10, CIFAR-10 Batch 3:  Loss: 0.8025 , Training Acc: 0.7500, Validation Acc: 0.6826\n",
      "Epoch 10, CIFAR-10 Batch 4:  Loss: 0.7261 , Training Acc: 0.7748, Validation Acc: 0.6898\n",
      "Epoch 10, CIFAR-10 Batch 5:  Loss: 0.6969 , Training Acc: 0.8082, Validation Acc: 0.6968\n",
      "Epoch 11, CIFAR-10 Batch 1:  Loss: 0.7303 , Training Acc: 0.7698, Validation Acc: 0.6838\n",
      "Epoch 11, CIFAR-10 Batch 2:  Loss: 0.7269 , Training Acc: 0.7896, Validation Acc: 0.7048\n",
      "Epoch 11, CIFAR-10 Batch 3:  Loss: 0.7394 , Training Acc: 0.7723, Validation Acc: 0.6964\n",
      "Epoch 11, CIFAR-10 Batch 4:  Loss: 0.7035 , Training Acc: 0.7896, Validation Acc: 0.6886\n",
      "Epoch 11, CIFAR-10 Batch 5:  Loss: 0.6320 , Training Acc: 0.8119, Validation Acc: 0.7010\n",
      "Epoch 12, CIFAR-10 Batch 1:  Loss: 0.6997 , Training Acc: 0.7908, Validation Acc: 0.7000\n",
      "Epoch 12, CIFAR-10 Batch 2:  Loss: 0.6777 , Training Acc: 0.7995, Validation Acc: 0.7106\n",
      "Epoch 12, CIFAR-10 Batch 3:  Loss: 0.6719 , Training Acc: 0.7921, Validation Acc: 0.7114\n",
      "Epoch 12, CIFAR-10 Batch 4:  Loss: 0.6328 , Training Acc: 0.8181, Validation Acc: 0.7036\n",
      "Epoch 12, CIFAR-10 Batch 5:  Loss: 0.5946 , Training Acc: 0.8391, Validation Acc: 0.7158\n",
      "Epoch 13, CIFAR-10 Batch 1:  Loss: 0.6396 , Training Acc: 0.7995, Validation Acc: 0.6910\n",
      "Epoch 13, CIFAR-10 Batch 2:  Loss: 0.6382 , Training Acc: 0.8131, Validation Acc: 0.7082\n",
      "Epoch 13, CIFAR-10 Batch 3:  Loss: 0.6026 , Training Acc: 0.8057, Validation Acc: 0.7134\n",
      "Epoch 13, CIFAR-10 Batch 4:  Loss: 0.5577 , Training Acc: 0.8354, Validation Acc: 0.7150\n",
      "Epoch 13, CIFAR-10 Batch 5:  Loss: 0.5970 , Training Acc: 0.8366, Validation Acc: 0.6928\n",
      "Epoch 14, CIFAR-10 Batch 1:  Loss: 0.5670 , Training Acc: 0.8304, Validation Acc: 0.7096\n",
      "Epoch 14, CIFAR-10 Batch 2:  Loss: 0.5949 , Training Acc: 0.8304, Validation Acc: 0.7150\n",
      "Epoch 14, CIFAR-10 Batch 3:  Loss: 0.5876 , Training Acc: 0.8243, Validation Acc: 0.7114\n",
      "Epoch 14, CIFAR-10 Batch 4:  Loss: 0.5510 , Training Acc: 0.8490, Validation Acc: 0.7150\n",
      "Epoch 14, CIFAR-10 Batch 5:  Loss: 0.5367 , Training Acc: 0.8478, Validation Acc: 0.7026\n",
      "Epoch 15, CIFAR-10 Batch 1:  Loss: 0.5459 , Training Acc: 0.8329, Validation Acc: 0.7078\n",
      "Epoch 15, CIFAR-10 Batch 2:  Loss: 0.5812 , Training Acc: 0.8502, Validation Acc: 0.7084\n",
      "Epoch 15, CIFAR-10 Batch 3:  Loss: 0.5509 , Training Acc: 0.8205, Validation Acc: 0.7108\n",
      "Epoch 15, CIFAR-10 Batch 4:  Loss: 0.5337 , Training Acc: 0.8391, Validation Acc: 0.7096\n",
      "Epoch 15, CIFAR-10 Batch 5:  Loss: 0.4787 , Training Acc: 0.8738, Validation Acc: 0.7192\n",
      "Epoch 16, CIFAR-10 Batch 1:  Loss: 0.4935 , Training Acc: 0.8626, Validation Acc: 0.7204\n",
      "Epoch 16, CIFAR-10 Batch 2:  Loss: 0.5272 , Training Acc: 0.8342, Validation Acc: 0.7134\n",
      "Epoch 16, CIFAR-10 Batch 3:  Loss: 0.4946 , Training Acc: 0.8589, Validation Acc: 0.7256\n",
      "Epoch 16, CIFAR-10 Batch 4:  Loss: 0.4463 , Training Acc: 0.8651, Validation Acc: 0.7244\n",
      "Epoch 16, CIFAR-10 Batch 5:  Loss: 0.4461 , Training Acc: 0.8824, Validation Acc: 0.7204\n",
      "Epoch 17, CIFAR-10 Batch 1:  Loss: 0.4669 , Training Acc: 0.8614, Validation Acc: 0.7140\n",
      "Epoch 17, CIFAR-10 Batch 2:  Loss: 0.4828 , Training Acc: 0.8676, Validation Acc: 0.7088\n",
      "Epoch 17, CIFAR-10 Batch 3:  Loss: 0.4745 , Training Acc: 0.8478, Validation Acc: 0.7092\n",
      "Epoch 17, CIFAR-10 Batch 4:  Loss: 0.4308 , Training Acc: 0.8849, Validation Acc: 0.7228\n",
      "Epoch 17, CIFAR-10 Batch 5:  Loss: 0.4367 , Training Acc: 0.8713, Validation Acc: 0.7020\n",
      "Epoch 18, CIFAR-10 Batch 1:  Loss: 0.4371 , Training Acc: 0.8713, Validation Acc: 0.7196\n",
      "Epoch 18, CIFAR-10 Batch 2:  Loss: 0.4403 , Training Acc: 0.8725, Validation Acc: 0.7188\n",
      "Epoch 18, CIFAR-10 Batch 3:  Loss: 0.3678 , Training Acc: 0.8837, Validation Acc: 0.7228\n",
      "Epoch 18, CIFAR-10 Batch 4:  Loss: 0.3865 , Training Acc: 0.8998, Validation Acc: 0.7230\n",
      "Epoch 18, CIFAR-10 Batch 5:  Loss: 0.3546 , Training Acc: 0.9220, Validation Acc: 0.7390\n",
      "Epoch 19, CIFAR-10 Batch 1:  Loss: 0.3704 , Training Acc: 0.8886, Validation Acc: 0.7322\n",
      "Epoch 19, CIFAR-10 Batch 2:  Loss: 0.3998 , Training Acc: 0.9010, Validation Acc: 0.7180\n",
      "Epoch 19, CIFAR-10 Batch 3:  Loss: 0.3641 , Training Acc: 0.8837, Validation Acc: 0.7218\n",
      "Epoch 19, CIFAR-10 Batch 4:  Loss: 0.3714 , Training Acc: 0.9134, Validation Acc: 0.7196\n",
      "Epoch 19, CIFAR-10 Batch 5:  Loss: 0.3083 , Training Acc: 0.9295, Validation Acc: 0.7314\n",
      "Epoch 20, CIFAR-10 Batch 1:  Loss: 0.3589 , Training Acc: 0.8998, Validation Acc: 0.7148\n",
      "Epoch 20, CIFAR-10 Batch 2:  Loss: 0.3576 , Training Acc: 0.9059, Validation Acc: 0.7138\n",
      "Epoch 20, CIFAR-10 Batch 3:  Loss: 0.3217 , Training Acc: 0.9109, Validation Acc: 0.7198\n",
      "Epoch 20, CIFAR-10 Batch 4:  Loss: 0.3363 , Training Acc: 0.9097, Validation Acc: 0.7166\n",
      "Epoch 20, CIFAR-10 Batch 5:  Loss: 0.2896 , Training Acc: 0.9381, Validation Acc: 0.7354\n",
      "Epoch 21, CIFAR-10 Batch 1:  Loss: 0.3017 , Training Acc: 0.9196, Validation Acc: 0.7378\n",
      "Epoch 21, CIFAR-10 Batch 2:  Loss: 0.2852 , Training Acc: 0.9208, Validation Acc: 0.7186\n",
      "Epoch 21, CIFAR-10 Batch 3:  Loss: 0.3314 , Training Acc: 0.9059, Validation Acc: 0.7120\n",
      "Epoch 21, CIFAR-10 Batch 4:  Loss: 0.3042 , Training Acc: 0.9233, Validation Acc: 0.7052\n",
      "Epoch 21, CIFAR-10 Batch 5:  Loss: 0.2955 , Training Acc: 0.9282, Validation Acc: 0.7186\n",
      "Epoch 22, CIFAR-10 Batch 1:  Loss: 0.3040 , Training Acc: 0.9121, Validation Acc: 0.7258\n",
      "Epoch 22, CIFAR-10 Batch 2:  Loss: 0.3136 , Training Acc: 0.9022, Validation Acc: 0.7070\n",
      "Epoch 22, CIFAR-10 Batch 3:  Loss: 0.3005 , Training Acc: 0.9233, Validation Acc: 0.7192\n",
      "Epoch 22, CIFAR-10 Batch 4:  Loss: 0.3060 , Training Acc: 0.9059, Validation Acc: 0.6988\n",
      "Epoch 22, CIFAR-10 Batch 5:  Loss: 0.2961 , Training Acc: 0.9394, Validation Acc: 0.7232\n",
      "Epoch 23, CIFAR-10 Batch 1:  Loss: 0.2640 , Training Acc: 0.9270, Validation Acc: 0.7312\n",
      "Epoch 23, CIFAR-10 Batch 2:  Loss: 0.2372 , Training Acc: 0.9455, Validation Acc: 0.7232\n",
      "Epoch 23, CIFAR-10 Batch 3:  Loss: 0.2986 , Training Acc: 0.9171, Validation Acc: 0.7048\n",
      "Epoch 23, CIFAR-10 Batch 4:  Loss: 0.2448 , Training Acc: 0.9493, Validation Acc: 0.7126\n",
      "Epoch 23, CIFAR-10 Batch 5:  Loss: 0.2456 , Training Acc: 0.9431, Validation Acc: 0.7190\n",
      "Epoch 24, CIFAR-10 Batch 1:  Loss: 0.2397 , Training Acc: 0.9394, Validation Acc: 0.7208\n",
      "Epoch 24, CIFAR-10 Batch 2:  Loss: 0.2044 , Training Acc: 0.9653, Validation Acc: 0.7252\n",
      "Epoch 24, CIFAR-10 Batch 3:  Loss: 0.2159 , Training Acc: 0.9567, Validation Acc: 0.7276\n",
      "Epoch 24, CIFAR-10 Batch 4:  Loss: 0.2040 , Training Acc: 0.9443, Validation Acc: 0.7188\n",
      "Epoch 24, CIFAR-10 Batch 5:  Loss: 0.2129 , Training Acc: 0.9443, Validation Acc: 0.7190\n",
      "Epoch 25, CIFAR-10 Batch 1:  Loss: 0.2432 , Training Acc: 0.9332, Validation Acc: 0.7248\n",
      "Epoch 25, CIFAR-10 Batch 2:  Loss: 0.1907 , Training Acc: 0.9641, Validation Acc: 0.7230\n",
      "Epoch 25, CIFAR-10 Batch 3:  Loss: 0.2148 , Training Acc: 0.9567, Validation Acc: 0.7182\n",
      "Epoch 25, CIFAR-10 Batch 4:  Loss: 0.1894 , Training Acc: 0.9493, Validation Acc: 0.7168\n",
      "Epoch 25, CIFAR-10 Batch 5:  Loss: 0.1871 , Training Acc: 0.9629, Validation Acc: 0.7136\n",
      "Epoch 26, CIFAR-10 Batch 1:  Loss: 0.2466 , Training Acc: 0.9208, Validation Acc: 0.7162\n",
      "Epoch 26, CIFAR-10 Batch 2:  Loss: 0.1786 , Training Acc: 0.9567, Validation Acc: 0.7276\n",
      "Epoch 26, CIFAR-10 Batch 3:  Loss: 0.2042 , Training Acc: 0.9505, Validation Acc: 0.7248\n",
      "Epoch 26, CIFAR-10 Batch 4:  Loss: 0.1664 , Training Acc: 0.9480, Validation Acc: 0.6948\n",
      "Epoch 26, CIFAR-10 Batch 5:  Loss: 0.1998 , Training Acc: 0.9455, Validation Acc: 0.7136\n",
      "Epoch 27, CIFAR-10 Batch 1:  Loss: 0.2076 , Training Acc: 0.9443, Validation Acc: 0.7194\n",
      "Epoch 27, CIFAR-10 Batch 2:  Loss: 0.1561 , Training Acc: 0.9616, Validation Acc: 0.7158\n",
      "Epoch 27, CIFAR-10 Batch 3:  Loss: 0.1783 , Training Acc: 0.9567, Validation Acc: 0.7190\n",
      "Epoch 27, CIFAR-10 Batch 4:  Loss: 0.1172 , Training Acc: 0.9740, Validation Acc: 0.7086\n",
      "Epoch 27, CIFAR-10 Batch 5:  Loss: 0.2045 , Training Acc: 0.9530, Validation Acc: 0.6994\n",
      "Epoch 28, CIFAR-10 Batch 1:  Loss: 0.1830 , Training Acc: 0.9542, Validation Acc: 0.7170\n",
      "Epoch 28, CIFAR-10 Batch 2:  Loss: 0.1439 , Training Acc: 0.9715, Validation Acc: 0.7160\n",
      "Epoch 28, CIFAR-10 Batch 3:  Loss: 0.1690 , Training Acc: 0.9678, Validation Acc: 0.7130\n",
      "Epoch 28, CIFAR-10 Batch 4:  Loss: 0.1261 , Training Acc: 0.9740, Validation Acc: 0.7056\n",
      "Epoch 28, CIFAR-10 Batch 5:  Loss: 0.1622 , Training Acc: 0.9592, Validation Acc: 0.7150\n",
      "Epoch 29, CIFAR-10 Batch 1:  Loss: 0.1466 , Training Acc: 0.9691, Validation Acc: 0.7286\n",
      "Epoch 29, CIFAR-10 Batch 2:  Loss: 0.1498 , Training Acc: 0.9715, Validation Acc: 0.7192\n",
      "Epoch 29, CIFAR-10 Batch 3:  Loss: 0.1860 , Training Acc: 0.9554, Validation Acc: 0.7042\n",
      "Epoch 29, CIFAR-10 Batch 4:  Loss: 0.1551 , Training Acc: 0.9641, Validation Acc: 0.6932\n",
      "Epoch 29, CIFAR-10 Batch 5:  Loss: 0.1405 , Training Acc: 0.9715, Validation Acc: 0.7026\n",
      "Epoch 30, CIFAR-10 Batch 1:  Loss: 0.1615 , Training Acc: 0.9604, Validation Acc: 0.7200\n",
      "Epoch 30, CIFAR-10 Batch 2:  Loss: 0.1499 , Training Acc: 0.9554, Validation Acc: 0.7166\n",
      "Epoch 30, CIFAR-10 Batch 3:  Loss: 0.1583 , Training Acc: 0.9616, Validation Acc: 0.7062\n",
      "Epoch 30, CIFAR-10 Batch 4:  Loss: 0.1353 , Training Acc: 0.9740, Validation Acc: 0.6942\n",
      "Epoch 30, CIFAR-10 Batch 5:  Loss: 0.1378 , Training Acc: 0.9691, Validation Acc: 0.7138\n",
      "Epoch 31, CIFAR-10 Batch 1:  Loss: 0.1291 , Training Acc: 0.9740, Validation Acc: 0.7244\n",
      "Epoch 31, CIFAR-10 Batch 2:  Loss: 0.0904 , Training Acc: 0.9864, Validation Acc: 0.7268\n",
      "Epoch 31, CIFAR-10 Batch 3:  Loss: 0.1152 , Training Acc: 0.9715, Validation Acc: 0.7070\n",
      "Epoch 31, CIFAR-10 Batch 4:  Loss: 0.1348 , Training Acc: 0.9678, Validation Acc: 0.6858\n",
      "Epoch 31, CIFAR-10 Batch 5:  Loss: 0.1281 , Training Acc: 0.9604, Validation Acc: 0.7106\n",
      "Epoch 32, CIFAR-10 Batch 1:  Loss: 0.1235 , Training Acc: 0.9728, Validation Acc: 0.7168\n",
      "Epoch 32, CIFAR-10 Batch 2:  Loss: 0.0910 , Training Acc: 0.9814, Validation Acc: 0.7256\n",
      "Epoch 32, CIFAR-10 Batch 3:  Loss: 0.1112 , Training Acc: 0.9703, Validation Acc: 0.7118\n",
      "Epoch 32, CIFAR-10 Batch 4:  Loss: 0.1006 , Training Acc: 0.9790, Validation Acc: 0.6904\n",
      "Epoch 32, CIFAR-10 Batch 5:  Loss: 0.0997 , Training Acc: 0.9740, Validation Acc: 0.7122\n",
      "Epoch 33, CIFAR-10 Batch 1:  Loss: 0.0842 , Training Acc: 0.9876, Validation Acc: 0.7226\n",
      "Epoch 33, CIFAR-10 Batch 2:  Loss: 0.0983 , Training Acc: 0.9802, Validation Acc: 0.7110\n",
      "Epoch 33, CIFAR-10 Batch 3:  Loss: 0.1050 , Training Acc: 0.9765, Validation Acc: 0.7110\n",
      "Epoch 33, CIFAR-10 Batch 4:  Loss: 0.0697 , Training Acc: 0.9864, Validation Acc: 0.7092\n",
      "Epoch 33, CIFAR-10 Batch 5:  Loss: 0.0922 , Training Acc: 0.9752, Validation Acc: 0.7118\n",
      "Epoch 34, CIFAR-10 Batch 1:  Loss: 0.1099 , Training Acc: 0.9653, Validation Acc: 0.7098\n",
      "Epoch 34, CIFAR-10 Batch 2:  Loss: 0.1043 , Training Acc: 0.9765, Validation Acc: 0.7130\n",
      "Epoch 34, CIFAR-10 Batch 3:  Loss: 0.0819 , Training Acc: 0.9864, Validation Acc: 0.7122\n",
      "Epoch 34, CIFAR-10 Batch 4:  Loss: 0.0762 , Training Acc: 0.9876, Validation Acc: 0.7038\n",
      "Epoch 34, CIFAR-10 Batch 5:  Loss: 0.0800 , Training Acc: 0.9839, Validation Acc: 0.7028\n",
      "Epoch 35, CIFAR-10 Batch 1:  Loss: 0.0810 , Training Acc: 0.9827, Validation Acc: 0.7148\n",
      "Epoch 35, CIFAR-10 Batch 2:  Loss: 0.0746 , Training Acc: 0.9851, Validation Acc: 0.7142\n",
      "Epoch 35, CIFAR-10 Batch 3:  Loss: 0.0844 , Training Acc: 0.9790, Validation Acc: 0.7042\n",
      "Epoch 35, CIFAR-10 Batch 4:  Loss: 0.0659 , Training Acc: 0.9913, Validation Acc: 0.7092\n",
      "Epoch 35, CIFAR-10 Batch 5:  Loss: 0.1010 , Training Acc: 0.9752, Validation Acc: 0.6908\n",
      "Epoch 36, CIFAR-10 Batch 1:  Loss: 0.0849 , Training Acc: 0.9827, Validation Acc: 0.7058\n",
      "Epoch 36, CIFAR-10 Batch 2:  Loss: 0.0597 , Training Acc: 0.9913, Validation Acc: 0.7194\n",
      "Epoch 36, CIFAR-10 Batch 3:  Loss: 0.0920 , Training Acc: 0.9802, Validation Acc: 0.7064\n",
      "Epoch 36, CIFAR-10 Batch 4:  Loss: 0.0621 , Training Acc: 0.9938, Validation Acc: 0.7090\n",
      "Epoch 36, CIFAR-10 Batch 5:  Loss: 0.0848 , Training Acc: 0.9851, Validation Acc: 0.6994\n",
      "Epoch 37, CIFAR-10 Batch 1:  Loss: 0.0772 , Training Acc: 0.9827, Validation Acc: 0.7028\n",
      "Epoch 37, CIFAR-10 Batch 2:  Loss: 0.0708 , Training Acc: 0.9864, Validation Acc: 0.7162\n",
      "Epoch 37, CIFAR-10 Batch 3:  Loss: 0.0773 , Training Acc: 0.9889, Validation Acc: 0.7084\n",
      "Epoch 37, CIFAR-10 Batch 4:  Loss: 0.0446 , Training Acc: 0.9950, Validation Acc: 0.7054\n",
      "Epoch 37, CIFAR-10 Batch 5:  Loss: 0.0519 , Training Acc: 0.9926, Validation Acc: 0.7124\n",
      "Epoch 38, CIFAR-10 Batch 1:  Loss: 0.0624 , Training Acc: 0.9901, Validation Acc: 0.7076\n",
      "Epoch 38, CIFAR-10 Batch 2:  Loss: 0.0553 , Training Acc: 0.9926, Validation Acc: 0.7108\n",
      "Epoch 38, CIFAR-10 Batch 3:  Loss: 0.0623 , Training Acc: 0.9876, Validation Acc: 0.7186\n",
      "Epoch 38, CIFAR-10 Batch 4:  Loss: 0.0510 , Training Acc: 0.9926, Validation Acc: 0.6952\n",
      "Epoch 38, CIFAR-10 Batch 5:  Loss: 0.0544 , Training Acc: 0.9913, Validation Acc: 0.7100\n",
      "Epoch 39, CIFAR-10 Batch 1:  Loss: 0.0552 , Training Acc: 0.9938, Validation Acc: 0.7156\n",
      "Epoch 39, CIFAR-10 Batch 2:  Loss: 0.0429 , Training Acc: 0.9926, Validation Acc: 0.7188\n",
      "Epoch 39, CIFAR-10 Batch 3:  Loss: 0.0526 , Training Acc: 0.9889, Validation Acc: 0.7234\n",
      "Epoch 39, CIFAR-10 Batch 4:  Loss: 0.0354 , Training Acc: 0.9963, Validation Acc: 0.7112\n",
      "Epoch 39, CIFAR-10 Batch 5:  Loss: 0.0477 , Training Acc: 0.9889, Validation Acc: 0.7106\n",
      "Epoch 40, CIFAR-10 Batch 1:  Loss: 0.0449 , Training Acc: 0.9950, Validation Acc: 0.7122\n",
      "Epoch 40, CIFAR-10 Batch 2:  Loss: 0.0350 , Training Acc: 0.9963, Validation Acc: 0.7194\n",
      "Epoch 40, CIFAR-10 Batch 3:  Loss: 0.0387 , Training Acc: 0.9938, Validation Acc: 0.7218\n",
      "Epoch 40, CIFAR-10 Batch 4:  Loss: 0.0301 , Training Acc: 0.9950, Validation Acc: 0.7200\n",
      "Epoch 40, CIFAR-10 Batch 5:  Loss: 0.0396 , Training Acc: 0.9913, Validation Acc: 0.7092\n",
      "Epoch 41, CIFAR-10 Batch 1:  Loss: 0.0489 , Training Acc: 0.9901, Validation Acc: 0.7074\n",
      "Epoch 41, CIFAR-10 Batch 2:  Loss: 0.0329 , Training Acc: 0.9950, Validation Acc: 0.7114\n",
      "Epoch 41, CIFAR-10 Batch 3:  Loss: 0.0347 , Training Acc: 0.9926, Validation Acc: 0.7182\n",
      "Epoch 41, CIFAR-10 Batch 4:  Loss: 0.0267 , Training Acc: 0.9938, Validation Acc: 0.7162\n",
      "Epoch 41, CIFAR-10 Batch 5:  Loss: 0.0390 , Training Acc: 0.9938, Validation Acc: 0.7108\n",
      "Epoch 42, CIFAR-10 Batch 1:  Loss: 0.0347 , Training Acc: 0.9950, Validation Acc: 0.7152\n",
      "Epoch 42, CIFAR-10 Batch 2:  Loss: 0.0376 , Training Acc: 0.9889, Validation Acc: 0.7182\n",
      "Epoch 42, CIFAR-10 Batch 3:  Loss: 0.0362 , Training Acc: 0.9950, Validation Acc: 0.7128\n",
      "Epoch 42, CIFAR-10 Batch 4:  Loss: 0.0263 , Training Acc: 0.9950, Validation Acc: 0.7196\n",
      "Epoch 42, CIFAR-10 Batch 5:  Loss: 0.0325 , Training Acc: 0.9938, Validation Acc: 0.7120\n",
      "Epoch 43, CIFAR-10 Batch 1:  Loss: 0.0478 , Training Acc: 0.9901, Validation Acc: 0.7154\n",
      "Epoch 43, CIFAR-10 Batch 2:  Loss: 0.0357 , Training Acc: 0.9938, Validation Acc: 0.7110\n",
      "Epoch 43, CIFAR-10 Batch 3:  Loss: 0.0391 , Training Acc: 0.9913, Validation Acc: 0.7116\n",
      "Epoch 43, CIFAR-10 Batch 4:  Loss: 0.0493 , Training Acc: 0.9889, Validation Acc: 0.7044\n",
      "Epoch 43, CIFAR-10 Batch 5:  Loss: 0.0427 , Training Acc: 0.9926, Validation Acc: 0.7042\n",
      "Epoch 44, CIFAR-10 Batch 1:  Loss: 0.0455 , Training Acc: 0.9889, Validation Acc: 0.7112\n",
      "Epoch 44, CIFAR-10 Batch 2:  Loss: 0.0311 , Training Acc: 0.9963, Validation Acc: 0.7162\n",
      "Epoch 44, CIFAR-10 Batch 3:  Loss: 0.0327 , Training Acc: 0.9938, Validation Acc: 0.7112\n",
      "Epoch 44, CIFAR-10 Batch 4:  Loss: 0.0311 , Training Acc: 0.9926, Validation Acc: 0.7068\n",
      "Epoch 44, CIFAR-10 Batch 5:  Loss: 0.0260 , Training Acc: 0.9950, Validation Acc: 0.7140\n",
      "Epoch 45, CIFAR-10 Batch 1:  Loss: 0.0370 , Training Acc: 0.9926, Validation Acc: 0.7044\n",
      "Epoch 45, CIFAR-10 Batch 2:  Loss: 0.0205 , Training Acc: 0.9963, Validation Acc: 0.7176\n",
      "Epoch 45, CIFAR-10 Batch 3:  Loss: 0.0273 , Training Acc: 0.9975, Validation Acc: 0.7102\n",
      "Epoch 45, CIFAR-10 Batch 4:  Loss: 0.0179 , Training Acc: 0.9988, Validation Acc: 0.7132\n",
      "Epoch 45, CIFAR-10 Batch 5:  Loss: 0.0336 , Training Acc: 0.9926, Validation Acc: 0.7026\n",
      "Epoch 46, CIFAR-10 Batch 1:  Loss: 0.0296 , Training Acc: 0.9950, Validation Acc: 0.7060\n",
      "Epoch 46, CIFAR-10 Batch 2:  Loss: 0.0253 , Training Acc: 0.9963, Validation Acc: 0.7234\n",
      "Epoch 46, CIFAR-10 Batch 3:  Loss: 0.0282 , Training Acc: 0.9963, Validation Acc: 0.7164\n",
      "Epoch 46, CIFAR-10 Batch 4:  Loss: 0.0176 , Training Acc: 0.9963, Validation Acc: 0.7086\n",
      "Epoch 46, CIFAR-10 Batch 5:  Loss: 0.0279 , Training Acc: 0.9913, Validation Acc: 0.6992\n",
      "Epoch 47, CIFAR-10 Batch 1:  Loss: 0.0331 , Training Acc: 0.9926, Validation Acc: 0.7052\n",
      "Epoch 47, CIFAR-10 Batch 2:  Loss: 0.0208 , Training Acc: 0.9975, Validation Acc: 0.7092\n",
      "Epoch 47, CIFAR-10 Batch 3:  Loss: 0.0336 , Training Acc: 0.9901, Validation Acc: 0.7078\n",
      "Epoch 47, CIFAR-10 Batch 4:  Loss: 0.0175 , Training Acc: 0.9988, Validation Acc: 0.7060\n",
      "Epoch 47, CIFAR-10 Batch 5:  Loss: 0.0182 , Training Acc: 0.9988, Validation Acc: 0.7140\n",
      "Epoch 48, CIFAR-10 Batch 1:  Loss: 0.0325 , Training Acc: 0.9963, Validation Acc: 0.6994\n",
      "Epoch 48, CIFAR-10 Batch 2:  Loss: 0.0257 , Training Acc: 0.9950, Validation Acc: 0.7126\n",
      "Epoch 48, CIFAR-10 Batch 3:  Loss: 0.0267 , Training Acc: 0.9926, Validation Acc: 0.7132\n",
      "Epoch 48, CIFAR-10 Batch 4:  Loss: 0.0148 , Training Acc: 0.9988, Validation Acc: 0.7092\n",
      "Epoch 48, CIFAR-10 Batch 5:  Loss: 0.0147 , Training Acc: 0.9975, Validation Acc: 0.7086\n",
      "Epoch 49, CIFAR-10 Batch 1:  Loss: 0.0217 , Training Acc: 0.9975, Validation Acc: 0.7116\n",
      "Epoch 49, CIFAR-10 Batch 2:  Loss: 0.0551 , Training Acc: 0.9889, Validation Acc: 0.6842\n",
      "Epoch 49, CIFAR-10 Batch 3:  Loss: 0.0366 , Training Acc: 0.9913, Validation Acc: 0.7060\n",
      "Epoch 49, CIFAR-10 Batch 4:  Loss: 0.0165 , Training Acc: 0.9988, Validation Acc: 0.7152\n",
      "Epoch 49, CIFAR-10 Batch 5:  Loss: 0.0183 , Training Acc: 0.9950, Validation Acc: 0.7140\n",
      "Epoch 50, CIFAR-10 Batch 1:  Loss: 0.0310 , Training Acc: 0.9926, Validation Acc: 0.7044\n",
      "Epoch 50, CIFAR-10 Batch 2:  Loss: 0.0271 , Training Acc: 0.9975, Validation Acc: 0.7020\n",
      "Epoch 50, CIFAR-10 Batch 3:  Loss: 0.0443 , Training Acc: 0.9901, Validation Acc: 0.7064\n",
      "Epoch 50, CIFAR-10 Batch 4:  Loss: 0.0295 , Training Acc: 0.9926, Validation Acc: 0.7048\n",
      "Epoch 50, CIFAR-10 Batch 5:  Loss: 0.0151 , Training Acc: 0.9988, Validation Acc: 0.7230\n"
     ]
    }
   ],
   "source": [
    "\"\"\"\n",
    "DON'T MODIFY ANYTHING IN THIS CELL\n",
    "\"\"\"\n",
    "save_model_path = './image_classification'\n",
    "\n",
    "print('Training...')\n",
    "with tf.Session() as sess:\n",
    "    # Initializing the variables\n",
    "    sess.run(tf.global_variables_initializer())\n",
    "    \n",
    "    # Training cycle\n",
    "    for epoch in range(epochs):\n",
    "        # Loop over all batches\n",
    "        n_batches = 5\n",
    "        for batch_i in range(1, n_batches + 1):\n",
    "            for batch_features, batch_labels in helper.load_preprocess_training_batch(batch_i, batch_size):\n",
    "                train_neural_network(sess, optimizer, keep_probability, batch_features, batch_labels)\n",
    "            print('Epoch {:>2}, CIFAR-10 Batch {}:  '.format(epoch + 1, batch_i), end='')\n",
    "            print_stats(sess, batch_features, batch_labels, cost, accuracy)\n",
    "            \n",
    "    # Save Model\n",
    "    saver = tf.train.Saver()\n",
    "    save_path = saver.save(sess, save_model_path)"
   ]
  },
  {
   "cell_type": "markdown",
   "metadata": {
    "deletable": true,
    "editable": true
   },
   "source": [
    "# Checkpoint\n",
    "The model has been saved to disk.\n",
    "## Test Model\n",
    "Test your model against the test dataset.  This will be your final accuracy. You should have an accuracy greater than 50%. If you don't, keep tweaking the model architecture and parameters."
   ]
  },
  {
   "cell_type": "code",
   "execution_count": 14,
   "metadata": {
    "collapsed": false,
    "deletable": true,
    "editable": true
   },
   "outputs": [
    {
     "name": "stdout",
     "output_type": "stream",
     "text": [
      "Testing Accuracy: 0.7154336810112\n",
      "\n"
     ]
    },
    {
     "data": {
      "image/png": "[encoded data removed]",
      "text/plain": [
       "<matplotlib.figure.Figure at 0x7fefd3545ef0>"
      ]
     },
     "metadata": {
      "image/png": {
       "height": 319,
       "width": 355
      }
     },
     "output_type": "display_data"
    }
   ],
   "source": [
    "\"\"\"\n",
    "DON'T MODIFY ANYTHING IN THIS CELL\n",
    "\"\"\"\n",
    "%matplotlib inline\n",
    "%config InlineBackend.figure_format = 'retina'\n",
    "\n",
    "import tensorflow as tf\n",
    "import pickle\n",
    "import helper\n",
    "import random\n",
    "\n",
    "# Set batch size if not already set\n",
    "try:\n",
    "    if batch_size:\n",
    "        pass\n",
    "except NameError:\n",
    "    batch_size = 64\n",
    "\n",
    "save_model_path = './image_classification'\n",
    "n_samples = 4\n",
    "top_n_predictions = 3\n",
    "\n",
    "def test_model():\n",
    "    \"\"\"\n",
    "    Test the saved model against the test dataset\n",
    "    \"\"\"\n",
    "\n",
    "    test_features, test_labels = pickle.load(open('preprocess_test.p', mode='rb'))\n",
    "    loaded_graph = tf.Graph()\n",
    "\n",
    "    with tf.Session(graph=loaded_graph) as sess:\n",
    "        # Load model\n",
    "        loader = tf.train.import_meta_graph(save_model_path + '.meta')\n",
    "        loader.restore(sess, save_model_path)\n",
    "\n",
    "        # Get Tensors from loaded model\n",
    "        loaded_x = loaded_graph.get_tensor_by_name('x:0')\n",
    "        loaded_y = loaded_graph.get_tensor_by_name('y:0')\n",
    "        loaded_keep_prob = loaded_graph.get_tensor_by_name('keep_prob:0')\n",
    "        loaded_logits = loaded_graph.get_tensor_by_name('logits:0')\n",
    "        loaded_acc = loaded_graph.get_tensor_by_name('accuracy:0')\n",
    "        \n",
    "        # Get accuracy in batches for memory limitations\n",
    "        test_batch_acc_total = 0\n",
    "        test_batch_count = 0\n",
    "        \n",
    "        for test_feature_batch, test_label_batch in helper.batch_features_labels(test_features, test_labels, batch_size):\n",
    "            test_batch_acc_total += sess.run(\n",
    "                loaded_acc,\n",
    "                feed_dict={loaded_x: test_feature_batch, loaded_y: test_label_batch, loaded_keep_prob: 1.0})\n",
    "            test_batch_count += 1\n",
    "\n",
    "        print('Testing Accuracy: {}\\n'.format(test_batch_acc_total/test_batch_count))\n",
    "\n",
    "        # Print Random Samples\n",
    "        random_test_features, random_test_labels = tuple(zip(*random.sample(list(zip(test_features, test_labels)), n_samples)))\n",
    "        random_test_predictions = sess.run(\n",
    "            tf.nn.top_k(tf.nn.softmax(loaded_logits), top_n_predictions),\n",
    "            feed_dict={loaded_x: random_test_features, loaded_y: random_test_labels, loaded_keep_prob: 1.0})\n",
    "        helper.display_image_predictions(random_test_features, random_test_labels, random_test_predictions)\n",
    "\n",
    "\n",
    "test_model()"
   ]
  },
  {
   "cell_type": "markdown",
   "metadata": {
    "deletable": true,
    "editable": true
   },
   "source": [
    "## Why 50-80% Accuracy?\n",
    "You might be wondering why you can't get an accuracy any higher. First things first, 50% isn't bad for a simple CNN.  Pure guessing would get you 10% accuracy. However, you might notice people are getting scores [well above 80%](http://rodrigob.github.io/are_we_there_yet/build/classification_datasets_results.html#43494641522d3130).  That's because we haven't taught you all there is to know about neural networks. We still need to cover a few more techniques.\n",
    "## Submitting This Project\n",
    "When submitting this project, make sure to run all the cells before saving the notebook.  Save the notebook file as \"dlnd_image_classification.ipynb\" and save it as a HTML file under \"File\" -> \"Download as\".  Include the \"helper.py\" and \"problem_unittests.py\" files in your submission."
   ]
  }
 ],
 "metadata": {
  "kernelspec": {
   "display_name": "Python 3",
   "language": "python",
   "name": "python3"
  },
  "language_info": {
   "codemirror_mode": {
    "name": "ipython",
    "version": 3
   },
   "file_extension": ".py",
   "mimetype": "text/x-python",
   "name": "python",
   "nbconvert_exporter": "python",
   "pygments_lexer": "ipython3",
   "version": "3.5.3"
  }
 },
 "nbformat": 4,
 "nbformat_minor": 1
}
